{
  "nbformat": 4,
  "nbformat_minor": 0,
  "metadata": {
    "colab": {
      "provenance": []
    },
    "kernelspec": {
      "name": "python3",
      "display_name": "Python 3"
    },
    "language_info": {
      "name": "python"
    },
    "gpuClass": "standard"
  },
  "cells": [
    {
      "cell_type": "code",
      "source": [
        "import tensorflow\n",
        "import random\n",
        "import numpy as np\n",
        "from sklearn.utils import shuffle\n",
        "from sklearn.preprocessing import MinMaxScaler"
      ],
      "metadata": {
        "id": "D4KHk3_uVMW2"
      },
      "execution_count": null,
      "outputs": []
    },
    {
      "cell_type": "code",
      "source": [
        "training_samples=[]\n",
        "training_label=[]\n",
        "for i in range(50):\n",
        "  training_samples.append(random.randint(13, 65))\n",
        "  training_label.append(1)\n",
        "\n",
        "  training_samples.append(random.randint(65, 100))\n",
        "  training_label.append(0)\n",
        "\n",
        "for i in range(1000):\n",
        "  training_samples.append(random.randint(13, 65))\n",
        "  training_label.append(0)\n",
        "\n",
        "  training_samples.append(random.randint(65, 100))\n",
        "  training_label.append(1)"
      ],
      "metadata": {
        "id": "ClsvrfEl8Nj9"
      },
      "execution_count": null,
      "outputs": []
    },
    {
      "cell_type": "code",
      "source": [
        "training_samples=np.array(training_samples)\n",
        "training_label=np.array(training_label)\n",
        "\n",
        "training_samples, training_label=shuffle(training_samples, training_label)"
      ],
      "metadata": {
        "id": "hWWsOksE8qT0"
      },
      "execution_count": null,
      "outputs": []
    },
    {
      "cell_type": "code",
      "source": [
        "scaler = MinMaxScaler(feature_range=(0,1))\n",
        "scaled_train_samples = scaler.fit_transform(training_samples.reshape(-1,1))"
      ],
      "metadata": {
        "id": "ysvp9Ox19FB8"
      },
      "execution_count": null,
      "outputs": []
    },
    {
      "cell_type": "code",
      "source": [
        "import tensorflow as tf\n",
        "from tensorflow import keras\n",
        "# from tensorflow.keras.models import Sequential\n",
        "from tensorflow.keras.layers import Activation, Dense\n",
        "from tensorflow.keras.optimizers import Adam\n",
        "from tensorflow.keras.metrics import categorical_crossentropy"
      ],
      "metadata": {
        "id": "LXGsqG20CHkt"
      },
      "execution_count": null,
      "outputs": []
    },
    {
      "cell_type": "code",
      "source": [
        "model=keras.Sequential()\n",
        "\n",
        "model.add(Dense(units=16, input_shape=(1,), activation='relu'))\n",
        "model.add(Dense(units=32, activation=\"relu\"))\n",
        "model.add(Dense(units=2, activation=\"softmax\"))"
      ],
      "metadata": {
        "id": "mdht9TeTFhuf"
      },
      "execution_count": null,
      "outputs": []
    },
    {
      "cell_type": "code",
      "source": [
        "training_samples"
      ],
      "metadata": {
        "colab": {
          "base_uri": "https://localhost:8080/"
        },
        "id": "gSyvBgre4mVW",
        "outputId": "d8402728-5481-4007-892d-f636680f00c0"
      },
      "execution_count": null,
      "outputs": [
        {
          "output_type": "execute_result",
          "data": {
            "text/plain": [
              "array([ 81, 100,  99, ...,  13,  14,  48])"
            ]
          },
          "metadata": {},
          "execution_count": 15
        }
      ]
    },
    {
      "cell_type": "code",
      "source": [
        "model.summary()"
      ],
      "metadata": {
        "id": "RxmnYGA3NOxZ",
        "colab": {
          "base_uri": "https://localhost:8080/"
        },
        "outputId": "f2d0aaf5-5b9c-4c16-813a-9a4a181ea3cb"
      },
      "execution_count": null,
      "outputs": [
        {
          "output_type": "stream",
          "name": "stdout",
          "text": [
            "Model: \"sequential_1\"\n",
            "_________________________________________________________________\n",
            " Layer (type)                Output Shape              Param #   \n",
            "=================================================================\n",
            " dense_3 (Dense)             (None, 16)                32        \n",
            "                                                                 \n",
            " dense_4 (Dense)             (None, 32)                544       \n",
            "                                                                 \n",
            " dense_5 (Dense)             (None, 2)                 66        \n",
            "                                                                 \n",
            "=================================================================\n",
            "Total params: 642\n",
            "Trainable params: 642\n",
            "Non-trainable params: 0\n",
            "_________________________________________________________________\n"
          ]
        }
      ]
    },
    {
      "cell_type": "code",
      "source": [
        "model.compile(optimizer=Adam(learning_rate=0.001), loss=\"sparse_categorical_crossentropy\", metrics=[\"accuracy\"])"
      ],
      "metadata": {
        "id": "orWHJ_VzQOlM"
      },
      "execution_count": null,
      "outputs": []
    },
    {
      "cell_type": "code",
      "source": [
        "model.fit(x=scaled_train_samples, y=training_label, batch_size=10, epochs=30, validation_split=0.2)"
      ],
      "metadata": {
        "id": "eTh963YDQ8Rs",
        "colab": {
          "base_uri": "https://localhost:8080/"
        },
        "outputId": "de8ad9c3-7d93-43f6-b30c-b582e4666cad"
      },
      "execution_count": null,
      "outputs": [
        {
          "output_type": "stream",
          "name": "stdout",
          "text": [
            "Epoch 1/30\n",
            "168/168 [==============================] - 1s 4ms/step - loss: 0.5973 - accuracy: 0.6851 - val_loss: 0.4994 - val_accuracy: 0.8500\n",
            "Epoch 2/30\n",
            "168/168 [==============================] - 0s 2ms/step - loss: 0.4020 - accuracy: 0.8863 - val_loss: 0.3247 - val_accuracy: 0.9310\n",
            "Epoch 3/30\n",
            "168/168 [==============================] - 0s 2ms/step - loss: 0.2974 - accuracy: 0.9214 - val_loss: 0.2765 - val_accuracy: 0.9310\n",
            "Epoch 4/30\n",
            "168/168 [==============================] - 0s 2ms/step - loss: 0.2712 - accuracy: 0.9298 - val_loss: 0.2619 - val_accuracy: 0.9429\n",
            "Epoch 5/30\n",
            "168/168 [==============================] - 0s 2ms/step - loss: 0.2615 - accuracy: 0.9369 - val_loss: 0.2554 - val_accuracy: 0.9429\n",
            "Epoch 6/30\n",
            "168/168 [==============================] - 0s 2ms/step - loss: 0.2536 - accuracy: 0.9375 - val_loss: 0.2486 - val_accuracy: 0.9310\n",
            "Epoch 7/30\n",
            "168/168 [==============================] - 0s 2ms/step - loss: 0.2491 - accuracy: 0.9369 - val_loss: 0.2480 - val_accuracy: 0.9452\n",
            "Epoch 8/30\n",
            "168/168 [==============================] - 0s 2ms/step - loss: 0.2465 - accuracy: 0.9357 - val_loss: 0.2439 - val_accuracy: 0.9452\n",
            "Epoch 9/30\n",
            "168/168 [==============================] - 0s 2ms/step - loss: 0.2424 - accuracy: 0.9417 - val_loss: 0.2385 - val_accuracy: 0.9429\n",
            "Epoch 10/30\n",
            "168/168 [==============================] - 0s 2ms/step - loss: 0.2401 - accuracy: 0.9369 - val_loss: 0.2391 - val_accuracy: 0.9452\n",
            "Epoch 11/30\n",
            "168/168 [==============================] - 0s 2ms/step - loss: 0.2379 - accuracy: 0.9387 - val_loss: 0.2376 - val_accuracy: 0.9452\n",
            "Epoch 12/30\n",
            "168/168 [==============================] - 0s 2ms/step - loss: 0.2365 - accuracy: 0.9363 - val_loss: 0.2366 - val_accuracy: 0.9452\n",
            "Epoch 13/30\n",
            "168/168 [==============================] - 0s 2ms/step - loss: 0.2348 - accuracy: 0.9423 - val_loss: 0.2331 - val_accuracy: 0.9429\n",
            "Epoch 14/30\n",
            "168/168 [==============================] - 0s 2ms/step - loss: 0.2349 - accuracy: 0.9339 - val_loss: 0.2326 - val_accuracy: 0.9452\n",
            "Epoch 15/30\n",
            "168/168 [==============================] - 0s 2ms/step - loss: 0.2333 - accuracy: 0.9435 - val_loss: 0.2332 - val_accuracy: 0.9452\n",
            "Epoch 16/30\n",
            "168/168 [==============================] - 0s 2ms/step - loss: 0.2326 - accuracy: 0.9417 - val_loss: 0.2366 - val_accuracy: 0.9452\n",
            "Epoch 17/30\n",
            "168/168 [==============================] - 0s 2ms/step - loss: 0.2318 - accuracy: 0.9423 - val_loss: 0.2314 - val_accuracy: 0.9452\n",
            "Epoch 18/30\n",
            "168/168 [==============================] - 0s 2ms/step - loss: 0.2303 - accuracy: 0.9393 - val_loss: 0.2295 - val_accuracy: 0.9429\n",
            "Epoch 19/30\n",
            "168/168 [==============================] - 0s 2ms/step - loss: 0.2317 - accuracy: 0.9399 - val_loss: 0.2314 - val_accuracy: 0.9452\n",
            "Epoch 20/30\n",
            "168/168 [==============================] - 0s 2ms/step - loss: 0.2299 - accuracy: 0.9399 - val_loss: 0.2278 - val_accuracy: 0.9452\n",
            "Epoch 21/30\n",
            "168/168 [==============================] - 0s 2ms/step - loss: 0.2294 - accuracy: 0.9399 - val_loss: 0.2302 - val_accuracy: 0.9452\n",
            "Epoch 22/30\n",
            "168/168 [==============================] - 0s 2ms/step - loss: 0.2281 - accuracy: 0.9405 - val_loss: 0.2276 - val_accuracy: 0.9429\n",
            "Epoch 23/30\n",
            "168/168 [==============================] - 0s 2ms/step - loss: 0.2286 - accuracy: 0.9423 - val_loss: 0.2281 - val_accuracy: 0.9452\n",
            "Epoch 24/30\n",
            "168/168 [==============================] - 0s 2ms/step - loss: 0.2275 - accuracy: 0.9411 - val_loss: 0.2259 - val_accuracy: 0.9452\n",
            "Epoch 25/30\n",
            "168/168 [==============================] - 0s 2ms/step - loss: 0.2263 - accuracy: 0.9405 - val_loss: 0.2310 - val_accuracy: 0.9452\n",
            "Epoch 26/30\n",
            "168/168 [==============================] - 0s 2ms/step - loss: 0.2281 - accuracy: 0.9363 - val_loss: 0.2254 - val_accuracy: 0.9452\n",
            "Epoch 27/30\n",
            "168/168 [==============================] - 0s 2ms/step - loss: 0.2248 - accuracy: 0.9405 - val_loss: 0.2288 - val_accuracy: 0.9310\n",
            "Epoch 28/30\n",
            "168/168 [==============================] - 0s 2ms/step - loss: 0.2269 - accuracy: 0.9399 - val_loss: 0.2247 - val_accuracy: 0.9429\n",
            "Epoch 29/30\n",
            "168/168 [==============================] - 0s 2ms/step - loss: 0.2246 - accuracy: 0.9399 - val_loss: 0.2238 - val_accuracy: 0.9452\n",
            "Epoch 30/30\n",
            "168/168 [==============================] - 0s 2ms/step - loss: 0.2232 - accuracy: 0.9435 - val_loss: 0.2272 - val_accuracy: 0.9452\n"
          ]
        },
        {
          "output_type": "execute_result",
          "data": {
            "text/plain": [
              "<keras.callbacks.History at 0x7fa9a5b66160>"
            ]
          },
          "metadata": {},
          "execution_count": 18
        }
      ]
    },
    {
      "cell_type": "code",
      "source": [
        "test_labels =  []\n",
        "test_samples = []\n",
        "\n",
        "for i in range(10):\n",
        "    # The 5% of younger individuals who did experience side effects\n",
        "    random_younger = random.randint(13,64)\n",
        "    test_samples.append(random_younger)\n",
        "    test_labels.append(1)\n",
        "\n",
        "    # The 5% of older individuals who did not experience side effects\n",
        "    random_older = random.randint(65,100)\n",
        "    test_samples.append(random_older)\n",
        "    test_labels.append(0)\n",
        "\n",
        "for i in range(200):\n",
        "    # The 95% of younger individuals who did not experience side effects\n",
        "    random_younger = random.randint(13,64)\n",
        "    test_samples.append(random_younger)\n",
        "    test_labels.append(0)\n",
        "\n",
        "    # The 95% of older individuals who did experience side effects\n",
        "    random_older = random.randint(65,100)\n",
        "    test_samples.append(random_older)\n",
        "    test_labels.append(1)\n",
        "\n",
        "test_labels = np.array(test_labels)\n",
        "test_samples = np.array(test_samples)\n",
        "test_labels, test_samples = shuffle(test_labels, test_samples)\n",
        "\n",
        "scaled_test_samples = scaler.fit_transform(test_samples.reshape(-1,1))"
      ],
      "metadata": {
        "id": "ECnUQBYLpFab"
      },
      "execution_count": null,
      "outputs": []
    },
    {
      "cell_type": "code",
      "source": [
        "predictions = model.predict(\n",
        "      x=scaled_test_samples\n",
        "    , batch_size=10\n",
        "    , verbose=0\n",
        ")  "
      ],
      "metadata": {
        "id": "SpRY8i0Uq6fY"
      },
      "execution_count": null,
      "outputs": []
    },
    {
      "cell_type": "code",
      "source": [
        "rounded_predictions = np.argmax(predictions, axis=-1)"
      ],
      "metadata": {
        "id": "w2hRTUyNrBcb"
      },
      "execution_count": null,
      "outputs": []
    },
    {
      "cell_type": "code",
      "source": [
        "%matplotlib inline\n",
        "from sklearn.metrics import confusion_matrix\n",
        "import itertools\n",
        "import matplotlib.pyplot as plt"
      ],
      "metadata": {
        "id": "XYojNfcy0AeE"
      },
      "execution_count": null,
      "outputs": []
    },
    {
      "cell_type": "code",
      "source": [
        "def plot_confusion_matrix(cm, classes,\n",
        "                        normalize=False,\n",
        "                        title='Confusion matrix',\n",
        "                        cmap=plt.cm.Blues):\n",
        "    \"\"\"\n",
        "    This function prints and plots the confusion matrix.\n",
        "    Normalization can be applied by setting `normalize=True`.\n",
        "    \"\"\"\n",
        "    plt.imshow(cm, interpolation='nearest', cmap=cmap)\n",
        "    plt.title(title)\n",
        "    plt.colorbar()\n",
        "    tick_marks = np.arange(len(classes))\n",
        "    plt.xticks(tick_marks, classes, rotation=45)\n",
        "    plt.yticks(tick_marks, classes)\n",
        "\n",
        "    if normalize:\n",
        "        cm = cm.astype('float') / cm.sum(axis=1)[:, np.newaxis]\n",
        "        print(\"Normalized confusion matrix\")\n",
        "    else:\n",
        "        print('Confusion matrix, without normalization')\n",
        "\n",
        "    print(cm)\n",
        "\n",
        "    thresh = cm.max() / 2.\n",
        "    for i, j in itertools.product(range(cm.shape[0]), range(cm.shape[1])):\n",
        "        plt.text(j, i, cm[i, j],\n",
        "            horizontalalignment=\"center\",\n",
        "            color=\"white\" if cm[i, j] > thresh else \"black\")\n",
        "\n",
        "    plt.tight_layout()\n",
        "    plt.ylabel('True label')\n",
        "    plt.xlabel('Predicted label')"
      ],
      "metadata": {
        "id": "zA-KhTob1XXP"
      },
      "execution_count": null,
      "outputs": []
    },
    {
      "cell_type": "code",
      "source": [
        "cm = confusion_matrix(y_true=test_labels, y_pred=rounded_predictions)\n",
        "cm_plot_labels=[\"no side effects\", \"Has side effects\"]\n",
        "plot_confusion_matrix(cm=cm, classes=cm_plot_labels, title=\"Confusion Matrix\")"
      ],
      "metadata": {
        "id": "3lhwLd360IEu",
        "colab": {
          "base_uri": "https://localhost:8080/",
          "height": 365
        },
        "outputId": "2889f96a-8b27-4617-8afc-3f9e57a903c7"
      },
      "execution_count": null,
      "outputs": [
        {
          "output_type": "stream",
          "name": "stdout",
          "text": [
            "Confusion matrix, without normalization\n",
            "[[200  10]\n",
            " [ 13 197]]\n"
          ]
        },
        {
          "output_type": "display_data",
          "data": {
            "text/plain": [
              "<Figure size 432x288 with 2 Axes>"
            ],
            "image/png": "[encoded data removed]"
          },
          "metadata": {
            "needs_background": "light"
          }
        }
      ]
    },
    {
      "cell_type": "code",
      "source": [
        "model.save(\"Deep_Lizard1.h5\")"
      ],
      "metadata": {
        "id": "Z1MF4Gy9MvmO"
      },
      "execution_count": null,
      "outputs": []
    },
    {
      "cell_type": "code",
      "source": [
        "from tensorflow.keras.models import load_model\n",
        "new_model = load_model('Deep_Lizard1.h5')"
      ],
      "metadata": {
        "id": "P9z947FqO_KU"
      },
      "execution_count": null,
      "outputs": []
    },
    {
      "cell_type": "code",
      "source": [
        "new_model.summary()"
      ],
      "metadata": {
        "colab": {
          "base_uri": "https://localhost:8080/"
        },
        "id": "pZpf431aPGaG",
        "outputId": "89943839-f490-4189-a40c-a75a79fd1930"
      },
      "execution_count": null,
      "outputs": [
        {
          "output_type": "stream",
          "name": "stdout",
          "text": [
            "Model: \"sequential_1\"\n",
            "_________________________________________________________________\n",
            " Layer (type)                Output Shape              Param #   \n",
            "=================================================================\n",
            " dense_3 (Dense)             (None, 16)                32        \n",
            "                                                                 \n",
            " dense_4 (Dense)             (None, 32)                544       \n",
            "                                                                 \n",
            " dense_5 (Dense)             (None, 2)                 66        \n",
            "                                                                 \n",
            "=================================================================\n",
            "Total params: 642\n",
            "Trainable params: 642\n",
            "Non-trainable params: 0\n",
            "_________________________________________________________________\n"
          ]
        }
      ]
    }
  ]
}