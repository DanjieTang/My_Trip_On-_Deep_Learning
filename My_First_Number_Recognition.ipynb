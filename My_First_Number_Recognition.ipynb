{
 "cells": [
  {
   "cell_type": "code",
   "execution_count": 102,
   "id": "1a7b05c3",
   "metadata": {},
   "outputs": [
    {
     "name": "stdout",
     "output_type": "stream",
     "text": [
      "(60000, 28, 28)\n"
     ]
    }
   ],
   "source": [
    "import tensorflow\n",
    "import numpy as np\n",
    "from tensorflow.keras.datasets import mnist\n",
    "from tensorflow.keras.models import Sequential\n",
    "from tensorflow.keras.layers import Dense\n",
    "from tensorflow.keras.utils import to_categorical\n",
    "\n",
    "# # Configuration options\n",
    "feature_vector_length = 784\n",
    "num_classes = 10\n",
    "\n",
    "# # Load the data\n",
    "(X_train, Y_train), (X_test, Y_test) = mnist.load_data()\n",
    "print(X_train.shape)\n",
    "X_train = X_train.reshape(X_train.shape[0], feature_vector_length)\n",
    "X_test = X_test.reshape(X_test.shape[0], feature_vector_length)"
   ]
  },
  {
   "cell_type": "code",
   "execution_count": 103,
   "id": "aca0a292",
   "metadata": {},
   "outputs": [],
   "source": [
    "X_train = X_train.astype('float32')\n",
    "X_test = X_test.astype('float32')\n",
    "X_train /= 255\n",
    "X_test /= 255"
   ]
  },
  {
   "cell_type": "code",
   "execution_count": 104,
   "id": "8ea88447",
   "metadata": {},
   "outputs": [],
   "source": [
    "Y_train = to_categorical(Y_train, num_classes)\n",
    "Y_test = to_categorical(Y_test, num_classes)"
   ]
  },
  {
   "cell_type": "code",
   "execution_count": 112,
   "id": "60193a3a",
   "metadata": {},
   "outputs": [
    {
     "name": "stdout",
     "output_type": "stream",
     "text": [
      "Epoch 1/3\n",
      "192/192 [==============================] - 1s 5ms/step - loss: 0.3843 - accuracy: 0.8937 - val_loss: 0.1830 - val_accuracy: 0.9463\n",
      "Epoch 2/3\n",
      "192/192 [==============================] - 1s 5ms/step - loss: 0.1480 - accuracy: 0.9573 - val_loss: 0.1295 - val_accuracy: 0.9631\n",
      "Epoch 3/3\n",
      "192/192 [==============================] - 1s 5ms/step - loss: 0.1014 - accuracy: 0.9708 - val_loss: 0.1078 - val_accuracy: 0.9688\n"
     ]
    },
    {
     "data": {
      "text/plain": [
       "<keras.callbacks.History at 0x7f88b5edd610>"
      ]
     },
     "execution_count": 112,
     "metadata": {},
     "output_type": "execute_result"
    }
   ],
   "source": [
    "model = Sequential()\n",
    "model.add(Dense(350, input_shape=(feature_vector_length,), activation='relu'))\n",
    "model.add(Dense(50, activation='relu'))\n",
    "model.add(Dense(num_classes, activation='softmax'))\n",
    "model.compile(loss='categorical_crossentropy', optimizer='adam', metrics=['accuracy'])\n",
    "model.fit(X_train, Y_train, epochs=3, batch_size=250, verbose=1, validation_split=0.2)"
   ]
  },
  {
   "cell_type": "code",
   "execution_count": 113,
   "id": "55325f9a",
   "metadata": {},
   "outputs": [
    {
     "name": "stdout",
     "output_type": "stream",
     "text": [
      "313/313 [==============================] - 0s 753us/step - loss: 0.0972 - accuracy: 0.9695\n",
      "Test results - Loss: 0.09720220416784286 - Accuracy: 0.9695000052452087%\n"
     ]
    }
   ],
   "source": [
    "test_results = model.evaluate(X_test, Y_test, verbose=1)\n",
    "print(f'Test results - Loss: {test_results[0]} - Accuracy: {test_results[1]}%')"
   ]
  },
  {
   "cell_type": "code",
   "execution_count": 114,
   "id": "9d159a3e",
   "metadata": {},
   "outputs": [],
   "source": [
    "from PIL import Image\n",
    "from numpy import asarray\n",
    "image = Image.open(\"My_First_Image.png\")\n",
    "numpydata = asarray(image)\n",
    "numpydata=numpydata.reshape(1, 784)\n",
    "numpydata = numpydata.astype('float32')"
   ]
  },
  {
   "cell_type": "code",
   "execution_count": 115,
   "id": "f581289f",
   "metadata": {},
   "outputs": [],
   "source": [
    "numpydata =numpydata/255"
   ]
  },
  {
   "cell_type": "code",
   "execution_count": 116,
   "id": "bdb4bb20",
   "metadata": {},
   "outputs": [
    {
     "name": "stdout",
     "output_type": "stream",
     "text": [
      "1/1 [==============================] - 0s 41ms/step\n"
     ]
    }
   ],
   "source": [
    "number=np.argmax(model.predict(numpydata))"
   ]
  },
  {
   "cell_type": "code",
   "execution_count": 117,
   "id": "49394a23",
   "metadata": {},
   "outputs": [
    {
     "name": "stdout",
     "output_type": "stream",
     "text": [
      "The number Danjie entered is:  2\n"
     ]
    }
   ],
   "source": [
    "print(\"The number Danjie entered is: \", number)"
   ]
  }
 ],
 "metadata": {
  "kernelspec": {
   "display_name": "Python 3 (ipykernel)",
   "language": "python",
   "name": "python3"
  },
  "language_info": {
   "codemirror_mode": {
    "name": "ipython",
    "version": 3
   },
   "file_extension": ".py",
   "mimetype": "text/x-python",
   "name": "python",
   "nbconvert_exporter": "python",
   "pygments_lexer": "ipython3",
   "version": "3.9.12"
  }
 },
 "nbformat": 4,
 "nbformat_minor": 5
}
